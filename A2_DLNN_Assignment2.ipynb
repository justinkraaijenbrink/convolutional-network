{
 "cells": [
  {
   "cell_type": "markdown",
   "metadata": {},
   "source": [
    "### Task 1 - Learn basics of Keras and TensorFlow"
   ]
  },
  {
   "cell_type": "markdown",
   "metadata": {},
   "source": [
    "#### PART I: Geron's textbook"
   ]
  },
  {
   "cell_type": "code",
   "execution_count": 7,
   "metadata": {},
   "outputs": [
    {
     "name": "stderr",
     "output_type": "stream",
     "text": [
      "/home/justin/anaconda3/lib/python3.6/site-packages/h5py/__init__.py:36: FutureWarning: Conversion of the second argument of issubdtype from `float` to `np.floating` is deprecated. In future, it will be treated as `np.float64 == np.dtype(float).type`.\n",
      "  from ._conv import register_converters as _register_converters\n"
     ]
    }
   ],
   "source": [
    "import tensorflow as tf\n",
    "from tensorflow import keras\n",
    "import pandas as pd\n",
    "import matplotlib.pyplot as plt\n",
    "import numpy as np"
   ]
  },
  {
   "cell_type": "markdown",
   "metadata": {},
   "source": [
    "Experimenting with the code in Chapter 10 of Geron's textbook"
   ]
  },
  {
   "cell_type": "code",
   "execution_count": 2,
   "metadata": {},
   "outputs": [
    {
     "name": "stdout",
     "output_type": "stream",
     "text": [
      "2.1.0\n",
      "2.2.4-tf\n"
     ]
    }
   ],
   "source": [
    "print(tf.__version__)\n",
    "print(keras.__version__)"
   ]
  },
  {
   "cell_type": "code",
   "execution_count": 3,
   "metadata": {},
   "outputs": [],
   "source": [
    "# Load the Fashion MNIST dataset\n",
    "\n",
    "fashion_mnist = keras.datasets.fashion_mnist\n",
    "(X_train_full, y_train_full), (X_test, y_test) = fashion_mnist.load_data()"
   ]
  },
  {
   "cell_type": "code",
   "execution_count": 4,
   "metadata": {},
   "outputs": [
    {
     "name": "stdout",
     "output_type": "stream",
     "text": [
      "(60000, 28, 28)\n",
      "uint8\n"
     ]
    }
   ],
   "source": [
    "print(X_train_full.shape)\n",
    "print(X_train_full.dtype)"
   ]
  },
  {
   "cell_type": "code",
   "execution_count": 5,
   "metadata": {},
   "outputs": [],
   "source": [
    "# Create a validation set\n",
    "\n",
    "X_valid, X_train = X_train_full[:5000] / 255.0, X_train_full[5000:] / 255.0\n",
    "y_valid, y_train = y_train_full[:5000], y_train_full[5000:] "
   ]
  },
  {
   "cell_type": "code",
   "execution_count": 6,
   "metadata": {},
   "outputs": [],
   "source": [
    "class_names = [\"T-shirt/top\", \"Trouser\", \"Pullover\", \"Dress\", \"Coat\",\n",
    "              \"Sandal\", \"Shirt\", \"Sneaker\", \"Bag\", \"Ankle boot\"]"
   ]
  },
  {
   "cell_type": "code",
   "execution_count": 7,
   "metadata": {},
   "outputs": [],
   "source": [
    "# Create model using sequential API\n",
    "\n",
    "model = keras.models.Sequential([\n",
    "    keras.layers.Flatten(input_shape = [28, 28]),\n",
    "    keras.layers.Dense(300, activation = \"relu\"),\n",
    "    keras.layers.Dense(100, activation = \"relu\"),\n",
    "    keras.layers.Dense(10, activation = \"softmax\")\n",
    "])"
   ]
  },
  {
   "cell_type": "code",
   "execution_count": 8,
   "metadata": {},
   "outputs": [
    {
     "name": "stdout",
     "output_type": "stream",
     "text": [
      "Model: \"sequential\"\n",
      "_________________________________________________________________\n",
      "Layer (type)                 Output Shape              Param #   \n",
      "=================================================================\n",
      "flatten (Flatten)            (None, 784)               0         \n",
      "_________________________________________________________________\n",
      "dense (Dense)                (None, 300)               235500    \n",
      "_________________________________________________________________\n",
      "dense_1 (Dense)              (None, 100)               30100     \n",
      "_________________________________________________________________\n",
      "dense_2 (Dense)              (None, 10)                1010      \n",
      "=================================================================\n",
      "Total params: 266,610\n",
      "Trainable params: 266,610\n",
      "Non-trainable params: 0\n",
      "_________________________________________________________________\n"
     ]
    },
    {
     "data": {
      "text/plain": [
       "True"
      ]
     },
     "execution_count": 8,
     "metadata": {},
     "output_type": "execute_result"
    }
   ],
   "source": [
    "# Obtain model's list of layers \n",
    "\n",
    "model.summary()\n",
    "model.layers\n",
    "hidden1 = model.layers[1]\n",
    "model.get_layer('dense') is hidden1"
   ]
  },
  {
   "cell_type": "code",
   "execution_count": 9,
   "metadata": {},
   "outputs": [
    {
     "name": "stdout",
     "output_type": "stream",
     "text": [
      "(784, 300)\n",
      "(300,)\n"
     ]
    }
   ],
   "source": [
    "# Obtain weights and biases for the first layer\n",
    "\n",
    "weights, biases = hidden1.get_weights()\n",
    "print(weights.shape)\n",
    "print(biases.shape)"
   ]
  },
  {
   "cell_type": "code",
   "execution_count": 10,
   "metadata": {},
   "outputs": [],
   "source": [
    "# Compiling the model - i.e. specify loss function and optimizer\n",
    "\n",
    "model.compile(loss = \"sparse_categorical_crossentropy\",\n",
    "             optimizer = keras.optimizers.SGD(lr = 0.01),\n",
    "             metrics = [\"accuracy\"])"
   ]
  },
  {
   "cell_type": "code",
   "execution_count": 11,
   "metadata": {},
   "outputs": [
    {
     "name": "stdout",
     "output_type": "stream",
     "text": [
      "Train on 55000 samples, validate on 5000 samples\n",
      "Epoch 1/30\n",
      "55000/55000 [==============================] - 4s 65us/sample - loss: 0.7238 - accuracy: 0.7640 - val_loss: 0.5223 - val_accuracy: 0.8190\n",
      "Epoch 2/30\n",
      "55000/55000 [==============================] - 3s 63us/sample - loss: 0.4915 - accuracy: 0.8287 - val_loss: 0.4739 - val_accuracy: 0.8322\n",
      "Epoch 3/30\n",
      "55000/55000 [==============================] - 4s 67us/sample - loss: 0.4464 - accuracy: 0.8447 - val_loss: 0.4122 - val_accuracy: 0.8630\n",
      "Epoch 4/30\n",
      "55000/55000 [==============================] - 3s 54us/sample - loss: 0.4171 - accuracy: 0.8557 - val_loss: 0.4022 - val_accuracy: 0.8590\n",
      "Epoch 5/30\n",
      "55000/55000 [==============================] - 3s 54us/sample - loss: 0.3979 - accuracy: 0.8600 - val_loss: 0.3939 - val_accuracy: 0.8640\n",
      "Epoch 6/30\n",
      "55000/55000 [==============================] - 3s 54us/sample - loss: 0.3807 - accuracy: 0.8661 - val_loss: 0.3732 - val_accuracy: 0.8718\n",
      "Epoch 7/30\n",
      "55000/55000 [==============================] - 3s 53us/sample - loss: 0.3678 - accuracy: 0.8701 - val_loss: 0.3646 - val_accuracy: 0.8772\n",
      "Epoch 8/30\n",
      "55000/55000 [==============================] - 3s 53us/sample - loss: 0.3567 - accuracy: 0.8738 - val_loss: 0.3583 - val_accuracy: 0.8776\n",
      "Epoch 9/30\n",
      "55000/55000 [==============================] - 3s 53us/sample - loss: 0.3459 - accuracy: 0.8777 - val_loss: 0.3856 - val_accuracy: 0.8668\n",
      "Epoch 10/30\n",
      "55000/55000 [==============================] - 3s 53us/sample - loss: 0.3349 - accuracy: 0.8805 - val_loss: 0.3451 - val_accuracy: 0.8810\n",
      "Epoch 11/30\n",
      "55000/55000 [==============================] - 3s 53us/sample - loss: 0.3260 - accuracy: 0.8842 - val_loss: 0.3469 - val_accuracy: 0.8770\n",
      "Epoch 12/30\n",
      "55000/55000 [==============================] - 3s 54us/sample - loss: 0.3186 - accuracy: 0.8863 - val_loss: 0.3474 - val_accuracy: 0.8790\n",
      "Epoch 13/30\n",
      "55000/55000 [==============================] - 3s 53us/sample - loss: 0.3113 - accuracy: 0.8887 - val_loss: 0.3369 - val_accuracy: 0.8830\n",
      "Epoch 14/30\n",
      "55000/55000 [==============================] - 3s 54us/sample - loss: 0.3046 - accuracy: 0.8911 - val_loss: 0.3237 - val_accuracy: 0.8854\n",
      "Epoch 15/30\n",
      "55000/55000 [==============================] - 3s 54us/sample - loss: 0.2988 - accuracy: 0.8928 - val_loss: 0.3407 - val_accuracy: 0.8748\n",
      "Epoch 16/30\n",
      "55000/55000 [==============================] - 3s 54us/sample - loss: 0.2907 - accuracy: 0.8956 - val_loss: 0.3227 - val_accuracy: 0.8810\n",
      "Epoch 17/30\n",
      "55000/55000 [==============================] - 3s 55us/sample - loss: 0.2856 - accuracy: 0.8973 - val_loss: 0.3227 - val_accuracy: 0.8838\n",
      "Epoch 18/30\n",
      "55000/55000 [==============================] - 3s 54us/sample - loss: 0.2801 - accuracy: 0.8996 - val_loss: 0.3157 - val_accuracy: 0.8860\n",
      "Epoch 19/30\n",
      "55000/55000 [==============================] - 3s 54us/sample - loss: 0.2744 - accuracy: 0.9018 - val_loss: 0.3182 - val_accuracy: 0.8854\n",
      "Epoch 20/30\n",
      "55000/55000 [==============================] - 3s 54us/sample - loss: 0.2703 - accuracy: 0.9031 - val_loss: 0.3092 - val_accuracy: 0.8906\n",
      "Epoch 21/30\n",
      "55000/55000 [==============================] - 3s 57us/sample - loss: 0.2644 - accuracy: 0.9046 - val_loss: 0.3118 - val_accuracy: 0.8902\n",
      "Epoch 22/30\n",
      "55000/55000 [==============================] - 3s 55us/sample - loss: 0.2597 - accuracy: 0.9057 - val_loss: 0.3036 - val_accuracy: 0.8916\n",
      "Epoch 23/30\n",
      "55000/55000 [==============================] - 3s 54us/sample - loss: 0.2551 - accuracy: 0.9076 - val_loss: 0.2999 - val_accuracy: 0.8928\n",
      "Epoch 24/30\n",
      "55000/55000 [==============================] - 3s 56us/sample - loss: 0.2516 - accuracy: 0.9103 - val_loss: 0.3028 - val_accuracy: 0.8914\n",
      "Epoch 25/30\n",
      "55000/55000 [==============================] - 3s 53us/sample - loss: 0.2465 - accuracy: 0.9115 - val_loss: 0.2973 - val_accuracy: 0.8932\n",
      "Epoch 26/30\n",
      "55000/55000 [==============================] - 3s 54us/sample - loss: 0.2426 - accuracy: 0.9124 - val_loss: 0.3018 - val_accuracy: 0.8910\n",
      "Epoch 27/30\n",
      "55000/55000 [==============================] - 3s 52us/sample - loss: 0.2398 - accuracy: 0.9137 - val_loss: 0.2936 - val_accuracy: 0.8912\n",
      "Epoch 28/30\n",
      "55000/55000 [==============================] - 3s 54us/sample - loss: 0.2344 - accuracy: 0.9160 - val_loss: 0.3050 - val_accuracy: 0.8842\n",
      "Epoch 29/30\n",
      "55000/55000 [==============================] - 3s 54us/sample - loss: 0.2303 - accuracy: 0.9170 - val_loss: 0.2880 - val_accuracy: 0.8954\n",
      "Epoch 30/30\n",
      "55000/55000 [==============================] - 3s 58us/sample - loss: 0.2277 - accuracy: 0.9184 - val_loss: 0.3075 - val_accuracy: 0.8910\n"
     ]
    }
   ],
   "source": [
    "# Training and evaluating the model\n",
    "\n",
    "history = model.fit(X_train, y_train, \n",
    "                    epochs = 30,\n",
    "                    validation_data = (X_valid, y_valid))"
   ]
  },
  {
   "cell_type": "code",
   "execution_count": 12,
   "metadata": {},
   "outputs": [
    {
     "data": {
      "image/png": "[encoded data removed]",
      "text/plain": [
       "<Figure size 576x360 with 1 Axes>"
      ]
     },
     "metadata": {},
     "output_type": "display_data"
    }
   ],
   "source": [
    "history.params\n",
    "history.epoch\n",
    "history.history\n",
    "\n",
    "# Plot the loss and accuracy. \n",
    "# NOTE: validation error is computed at the end of each epoch, while\n",
    "# the training error is computed using a running mean during each \n",
    "# epoch. So the training curve should be shifted by half an epoch to \n",
    "# the left. \n",
    "\n",
    "pd.DataFrame(history.history).plot(figsize = (8, 5))\n",
    "plt.grid(True)\n",
    "plt.gca().set_ylim(0, 1)\n",
    "plt.show()"
   ]
  },
  {
   "cell_type": "code",
   "execution_count": 11,
   "metadata": {},
   "outputs": [
    {
     "name": "stdout",
     "output_type": "stream",
     "text": [
      "10000/10000 [==============================] - 1s 78us/sample - loss: 165.3511 - accuracy: 0.0917\n"
     ]
    },
    {
     "data": {
      "text/plain": [
       "[165.3510673339844, 0.0917]"
      ]
     },
     "execution_count": 11,
     "metadata": {},
     "output_type": "execute_result"
    }
   ],
   "source": [
    "# Evaluate the model on the test set\n",
    "\n",
    "model.evaluate(X_test, y_test)"
   ]
  },
  {
   "cell_type": "code",
   "execution_count": 12,
   "metadata": {},
   "outputs": [
    {
     "name": "stdout",
     "output_type": "stream",
     "text": [
      "['Coat' 'Trouser' 'Trouser']\n"
     ]
    },
    {
     "data": {
      "text/plain": [
       "array(['Ankle boot', 'Pullover', 'Trouser'], dtype='<U11')"
      ]
     },
     "execution_count": 12,
     "metadata": {},
     "output_type": "execute_result"
    }
   ],
   "source": [
    "# Use the model to make predictions\n",
    "\n",
    "X_new = X_test[:3]\n",
    "y_proba = model.predict(X_new)\n",
    "y_proba.round(2)\n",
    "\n",
    "y_pred = model.predict_classes(X_new)\n",
    "print(np.array(class_names)[y_pred])\n",
    "\n",
    "y_new = y_test[:3]\n",
    "np.array(class_names)[y_new]"
   ]
  },
  {
   "cell_type": "markdown",
   "metadata": {},
   "source": [
    "#### Building a Regression MLP using the sequential API\n",
    "\n",
    "California housing problem, using a regression neural network to tackle the problem. "
   ]
  },
  {
   "cell_type": "code",
   "execution_count": 13,
   "metadata": {},
   "outputs": [],
   "source": [
    "# Load data, split into a training set, validation set and test set \n",
    "# and scale the features\n",
    "\n",
    "from sklearn.datasets import fetch_california_housing\n",
    "from sklearn.model_selection import train_test_split\n",
    "from sklearn.preprocessing import StandardScaler\n",
    "\n",
    "housing = fetch_california_housing()\n",
    "\n",
    "X_train_full, X_test, y_train_full, y_test = train_test_split(housing.data, housing.target)\n",
    "X_train, X_valid, y_train, y_valid = train_test_split(X_train_full, y_train_full)\n",
    "\n",
    "scaler = StandardScaler()\n",
    "X_train = scaler.fit_transform(X_train)\n",
    "X_valid = scaler.fit_transform(X_valid)\n",
    "X_test = scaler.fit_transform(X_test)"
   ]
  },
  {
   "cell_type": "code",
   "execution_count": null,
   "metadata": {},
   "outputs": [],
   "source": [
    "# Specify the model and train it\n",
    "\n",
    "model = keras.models.Sequential([\n",
    "    keras.layers.Dense(30, activation = \"relu\",\n",
    "                      input_shape = X_train.shape[1:]),\n",
    "    keras.layers.Dense(1)\n",
    "])\n",
    "\n",
    "model.compile(loss = \"mean_squared_error\",\n",
    "             optimizer = \"sgd\")\n",
    "\n",
    "history = model.fit(X_train, y_train, \n",
    "                   epochs = 20,\n",
    "                   validation_data = (X_valid, y_valid))"
   ]
  },
  {
   "cell_type": "code",
   "execution_count": null,
   "metadata": {},
   "outputs": [],
   "source": [
    "# Evaluate the model\n",
    "\n",
    "model.evaluate(X_test, y_test)\n",
    "\n",
    "X_new = X_test[:3]\n",
    "y_pred = model.predict(X_new)"
   ]
  },
  {
   "cell_type": "markdown",
   "metadata": {},
   "source": [
    "### From Sequential APIs to Functional APIs"
   ]
  },
  {
   "cell_type": "code",
   "execution_count": null,
   "metadata": {},
   "outputs": [],
   "source": [
    "# Neural net Fig. 10-14 p.309 \n",
    "\n",
    "input_ = keras.layers.Input(shape = X_train.shape[1:])\n",
    "hidden1 = keras.layers.Dense(30, activation = \"relu\")(input_)\n",
    "hidden2 = keras.layers.Dense(30, activation = \"relu\")(hidden1)\n",
    "concat = keras.layers.Concatenate()([input_, hidden2])\n",
    "output = keras.layers.Dense(1)(concat)\n",
    "model = keras.Model(inputs = [input_], outputs = [output])"
   ]
  },
  {
   "cell_type": "code",
   "execution_count": null,
   "metadata": {},
   "outputs": [],
   "source": [
    "# Neural net Fig. 10-15 p.310\n",
    "# NOTE: we now have multiple inputs!\n",
    "\n",
    "input_A = keras.layers.Input(shape = [5], name = \"wide_input\")\n",
    "input_B = keras.layers.Input(shape = [6], name = \"deep_input\")\n",
    "hidden1 = keras.layers.Dense(30, activation = \"relu\")(input_B)\n",
    "hidden2 = keras.layers.Dense(30, activation = \"relu\")(hidden1)\n",
    "concat = keras.layers.concatenate([input_A, hidden2])\n",
    "output = keras.layers.Dense(1, name = \"output\")(concat)\n",
    "model = keras.Model(inputs = [input_A, input_B], outputs = [output])"
   ]
  },
  {
   "cell_type": "code",
   "execution_count": null,
   "metadata": {},
   "outputs": [],
   "source": [
    "model.compile(loss = \"mse\",\n",
    "             optimizer = keras.optimizers.SGD(lr = 1e-3))\n",
    "\n",
    "X_train_A, X_train_B = X_train[:, :5], X_train[:, 2:]\n",
    "X_valid_A, X_valid_B = X_valid[:, :5], X_valid[:, 2:]\n",
    "X_test_A, X_test_B = X_test[:, :5], X_test[:, 2:]\n",
    "X_new_A, X_new_B = X_test_A[:3], X_test_B[:3]\n",
    "\n",
    "history = model.fit((X_train_A, X_train_B), y_train,\n",
    "                   epochs = 20,\n",
    "                   validation_data = ((X_valid_A, X_valid_B), y_valid))"
   ]
  },
  {
   "cell_type": "code",
   "execution_count": null,
   "metadata": {},
   "outputs": [],
   "source": [
    "model.evaluate((X_test_A, X_test_B), y_test)\n",
    "y_pred = model.predict((X_new_A, X_new_B))"
   ]
  },
  {
   "cell_type": "code",
   "execution_count": null,
   "metadata": {},
   "outputs": [],
   "source": [
    "# Adding extra outputs, neural net of Fig. 10-16 p.312\n",
    "\n",
    "input_A = keras.layers.Input(shape = [5], name = \"wide_input\")\n",
    "input_B = keras.layers.Input(shape = [6], name = \"deep_input\")\n",
    "hidden1 = keras.layers.Dense(30, activation = \"relu\")(input_B)\n",
    "hidden2 = keras.layers.Dense(30, activation = \"relu\")(hidden1)\n",
    "concat = keras.layers.concatenate([input_A, hidden2])\n",
    "output = keras.layers.Dense(1, name = \"main_output\")(concat)\n",
    "aux_output = keras.layers.Dense(1, name = \"aux_output\")(hidden2)\n",
    "model = keras.Model(inputs = [input_A, input_B], outputs = [output, aux_output])\n",
    "\n",
    "model.compile(loss = [\"mse\", \"mse\"],\n",
    "             loss_weights = [0.9, 0.1], \n",
    "             optimizer = keras.optimizers.SGD(lr = 1e-3))\n",
    "\n",
    "history = model.fit([X_train_A, X_train_B], [y_train, y_train],\n",
    "                   epochs = 20,\n",
    "                   validation_data = ([X_valid_A, X_valid_B], [y_valid, y_valid]))"
   ]
  },
  {
   "cell_type": "code",
   "execution_count": null,
   "metadata": {},
   "outputs": [],
   "source": [
    "total_loss, main_loss, aux_loss = model.evaluate(\n",
    "    [X_test_A, X_test_B], [y_test, y_test])\n",
    "\n",
    "y_pred_main, y_pred_aux = model.predict([X_new_A, X_new_B])"
   ]
  },
  {
   "cell_type": "markdown",
   "metadata": {},
   "source": [
    "### Using the subclassing API to build Dynamic Models\n",
    "\n",
    "NOTE: dynamic models are excellent for experimenting and doing research, but the flexibility comes at a cost. The model's architecture is hidden within the `call()` method, so Keras cannot easily inspect it."
   ]
  },
  {
   "cell_type": "code",
   "execution_count": null,
   "metadata": {},
   "outputs": [],
   "source": [
    "# Equivalent model to the previous one, but now more dynamic\n",
    "\n",
    "\n",
    "# class WideAndDeepModel(keras.Model):\n",
    "#    def __init__(self, units = 30, activation = \"relu\", **kwargs):\n",
    "#        super().__init__(**kwargs) #handles standard args, e.g. 'name'\n",
    "#        self.hidden1 = keras.layers.Dense(units, activation = activation)\n",
    "#        self.hidden2 = keras.layers.Dense(units, activation = activation)\n",
    "#        self.main_output = keras.layers.Dense(1)\n",
    "#        self.aux_output = keras.layers.Dense(1)\n",
    "\n",
    "#    def call(self, inputs):\n",
    "#        input_A, input_B = inputs\n",
    "#        hidden1 = self.hidden1(input_B)\n",
    "#        hidden2 = self.hidden2(hidden1)\n",
    "#        concat = keras.layers.concatenate([input_A, hidden2])\n",
    "#        main_output = self.main_output(concat)\n",
    "#        aux_output = self.aux_output(hidden2)\n",
    "#        return main_output, aux_output\n",
    "    \n",
    "# model = WideAndDeepModel()"
   ]
  },
  {
   "cell_type": "markdown",
   "metadata": {},
   "source": [
    "### Saving and restoring a model"
   ]
  },
  {
   "cell_type": "code",
   "execution_count": null,
   "metadata": {},
   "outputs": [],
   "source": [
    "model.save(\"my_first_model.h5\")\n",
    "model = keras.models.load_model(\"my_first_model.h5\")"
   ]
  },
  {
   "cell_type": "code",
   "execution_count": null,
   "metadata": {},
   "outputs": [],
   "source": [
    "# When training lasts several hours, you can use callbacks\n",
    "\n",
    "checkpoint_cb = keras.callbacks.ModelCheckpoint(\"my_first_model.h5\")\n",
    "history = model.fit([X_train_A, X_train_B], [y_train, y_train], \n",
    "                    epochs = 10,\n",
    "                    callbacks = [checkpoint_cb])"
   ]
  },
  {
   "cell_type": "code",
   "execution_count": null,
   "metadata": {},
   "outputs": [],
   "source": [
    "# Implement early stopping\n",
    "\n",
    "checkpoint_cb = keras.callbacks.ModelCheckpoint(\"my_first_model.h5\",\n",
    "                                               save_best_only = True)\n",
    "history = model.fit([X_train_A, X_train_B], [y_train, y_train], \n",
    "                    epochs = 10,\n",
    "                    callbacks = [checkpoint_cb])\n",
    "model = keras.models.load_model(\"my_first_model.h5\")"
   ]
  },
  {
   "cell_type": "code",
   "execution_count": null,
   "metadata": {},
   "outputs": [],
   "source": [
    "# Combine with 'EarlyStopping()'\n",
    "\n",
    "early_stopping_cb = keras.callbacks.EarlyStopping(patience = 10,\n",
    "                                                 restore_best_weights = True)\n",
    "\n",
    "history = model.fit([X_train_A, X_train_B], [y_train, y_train], \n",
    "                    epochs = 100,\n",
    "                    callbacks = [checkpoint_cb, early_stopping_cb])"
   ]
  },
  {
   "cell_type": "markdown",
   "metadata": {},
   "source": [
    "### Using TensorBoard for visualization"
   ]
  },
  {
   "cell_type": "code",
   "execution_count": null,
   "metadata": {},
   "outputs": [],
   "source": [
    "# Define the root log directory and a small function that generates\n",
    "# a subdirectory path \n",
    "\n",
    "import os\n",
    "root_logdir = os.path.join(os.curdir, \"my_logs\")\n",
    "\n",
    "def get_run_logdir():\n",
    "    import time\n",
    "    run_id = time.strftime(\"run_%Y_%m_%d-%H_%M_%S\")\n",
    "    return os.path.join(root_logdir, run_id)\n",
    "\n",
    "run_logdir = get_run_logdir()"
   ]
  },
  {
   "cell_type": "code",
   "execution_count": null,
   "metadata": {},
   "outputs": [],
   "source": [
    "model = keras.models.load_model(\"my_first_model.h5\")\n",
    "tensorboard_cb = keras.callbacks.TensorBoard(run_logdir)\n",
    "history = model.fit([X_train_A, X_train_B], [y_train, y_train], \n",
    "                    epochs = 30,\n",
    "                    validation_data = ([X_valid_A, X_valid_B], [y_valid, y_valid]),\n",
    "                    callbacks = [tensorboard_cb])"
   ]
  },
  {
   "cell_type": "code",
   "execution_count": null,
   "metadata": {},
   "outputs": [],
   "source": [
    "model.compile(loss = \"mse\",\n",
    "             optimizer = keras.optimizers.SGD(lr = 5e-3))\n",
    "\n",
    "\n",
    "model = keras.models.load_model(\"my_first_model.h5\")\n",
    "\n",
    "run_logdir = get_run_logdir()\n",
    "\n",
    "tensorboard_cb = keras.callbacks.TensorBoard(run_logdir)\n",
    "\n",
    "history = model.fit([X_train_A, X_train_B], [y_train, y_train], \n",
    "                    epochs = 30,\n",
    "                    validation_data = ([X_valid_A, X_valid_B], [y_valid, y_valid]),\n",
    "                    callbacks = [tensorboard_cb])"
   ]
  },
  {
   "cell_type": "code",
   "execution_count": null,
   "metadata": {},
   "outputs": [],
   "source": [
    "test_logdir = get_run_logdir()\n",
    "write = tf.summary.create_file_writer(test_logdir)\n",
    "\n",
    "with write.as_default():\n",
    "    for step in range(1, 1000 + 1):\n",
    "        tf.summary.scalar(\"my_scalar\", np.sin(step / 10), step = step)\n",
    "        data = (np.random.randn(100) + 2) * step / 100\n",
    "        tf.summary.histogram(\"my_hist\", data, buckets = 50, step = step)\n",
    "        images = np.random.rand(2, 32, 32, 3)\n",
    "        tf.summary.image(\"my_images\", images * step / 1000, step = step)\n",
    "        texts = [\"The step is \" + str(step), \"Its square is \" + str(step**2)]\n",
    "        tf.summary.text(\"my_text\", texts, step = step)\n",
    "        sine_wave = tf.math.sin(tf.range(12000) / 48000 * 2 * np.pi * step)\n",
    "        audio = tf.reshape(tf.cast(sine_wave, tf.float32), [1, -1, 1])\n",
    "        tf.summary.audio(\"my_audio\", audio, sample_rate = 48000, step = step)"
   ]
  },
  {
   "cell_type": "markdown",
   "metadata": {},
   "source": [
    "### Fine-tuning the hyperparameters"
   ]
  },
  {
   "cell_type": "code",
   "execution_count": 9,
   "metadata": {},
   "outputs": [],
   "source": [
    "# Option 1: use `GridSearchCV' or `RandomizedSearchCV' to explore th\n",
    "# hyperparameter space\n",
    "\n",
    "def BuildModel(n_hidden = 1, n_neurons = 30, learning_rate = 3e-3, input_shape = [8]):\n",
    "    model = keras.models.Sequential()\n",
    "    model.add(keras.layers.InputLayer(input_shape = input_shape))\n",
    "    \n",
    "    for layer in range(n_hidden):\n",
    "        model.add(keras.layers.Dense(n_neurons, activation = \"relu\"))\n",
    "        \n",
    "    model.add(keras.layers.Dense(1))\n",
    "    optimizer = keras.optimizers.SGD(lr = learning_rate)\n",
    "    \n",
    "    model.compile(loss = \"mse\", optimizer = optimizer)\n",
    "    \n",
    "    return model"
   ]
  },
  {
   "cell_type": "code",
   "execution_count": 10,
   "metadata": {},
   "outputs": [],
   "source": [
    "# Create a KerasRegressor based on the above function\n",
    "\n",
    "keras_reg = keras.wrappers.scikit_learn.KerasRegressor(BuildModel)"
   ]
  },
  {
   "cell_type": "code",
   "execution_count": null,
   "metadata": {},
   "outputs": [],
   "source": [
    "# Train it\n",
    "\n",
    "keras_reg.fit(X_train, y_train, \n",
    "              epochs = 100,\n",
    "              validation_data = (X_valid, y_valid),\n",
    "              callbacks = [keras.callbacks.EarlyStopping(patience = 10)])"
   ]
  },
  {
   "cell_type": "code",
   "execution_count": null,
   "metadata": {},
   "outputs": [],
   "source": [
    "mse_test = keras_reg.score(X_test, y_test)\n",
    "y_pred = keras_reg.predict(X_new)"
   ]
  },
  {
   "cell_type": "code",
   "execution_count": 3,
   "metadata": {},
   "outputs": [],
   "source": [
    "from scipy.stats import reciprocal\n",
    "from sklearn.model_selection import RandomizedSearchCV\n",
    "import numpy as np"
   ]
  },
  {
   "cell_type": "code",
   "execution_count": null,
   "metadata": {},
   "outputs": [],
   "source": [
    "param_distribs = {\n",
    "    \"n_hidden\": [0, 1, 2, 3],\n",
    "    \"n_neurons\": np.arange(1, 100),\n",
    "    \"learning_rate\": reciprocal(3e-4, 3e-2),\n",
    "}\n",
    "\n",
    "rnd_search_cv = RandomizedSearchCV(keras_reg, \n",
    "                                   param_distribs, \n",
    "                                   n_iter = 10, \n",
    "                                   cv = 3)\n",
    "\n",
    "rnd_search_cv.fit(X_train, y_train, \n",
    "                 epochs = 100,\n",
    "                 validation_data = (X_valid, y_valid),\n",
    "                 callbacks = [keras.callbacks.EarlyStopping()])"
   ]
  },
  {
   "cell_type": "code",
   "execution_count": null,
   "metadata": {},
   "outputs": [],
   "source": [
    "print(rnd_search_cv.best_params_)\n",
    "print(rnd_search_cv.best_score_)\n",
    "\n",
    "model = rnd_search_cv.best_estimator_.model\n"
   ]
  }
 ],
 "metadata": {
  "kernelspec": {
   "display_name": "Python 3",
   "language": "python",
   "name": "python3"
  },
  "language_info": {
   "codemirror_mode": {
    "name": "ipython",
    "version": 3
   },
   "file_extension": ".py",
   "mimetype": "text/x-python",
   "name": "python",
   "nbconvert_exporter": "python",
   "pygments_lexer": "ipython3",
   "version": "3.6.5"
  }
 },
 "nbformat": 4,
 "nbformat_minor": 2
}
